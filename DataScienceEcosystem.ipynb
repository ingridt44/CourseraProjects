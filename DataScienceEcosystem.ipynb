{
 "cells": [
  {
   "cell_type": "markdown",
   "id": "650d0c2e-a3ba-4bfb-8d7c-a2be82aaaa72",
   "metadata": {},
   "source": [
    "# Data Science Tools and Ecosystem"
   ]
  },
  {
   "cell_type": "markdown",
   "id": "8bf0fad2-b386-46b3-b32a-33c67236de9d",
   "metadata": {},
   "source": [
    "In this notebook, Data Science Tools and Ecosystem are summarized."
   ]
  },
  {
   "cell_type": "markdown",
   "id": "226a6e4d-aa1f-49ce-b880-1d710abcd8f9",
   "metadata": {},
   "source": [
    "Some of the popular languages that Data Scientists use are: \n",
    "1. Python\n",
    "2. R\n",
    "3. SQL "
   ]
  },
  {
   "cell_type": "markdown",
   "id": "de66c7fe-1f9a-457d-b48a-9a7215cb7ede",
   "metadata": {},
   "source": [
    "Some of the commonly used libraries used by Data Scientists include: \n",
    "1. MatPlotLib\n",
    "2. NumPy\n",
    "3. TensorFlow\n",
    "4. SciPy"
   ]
  },
  {
   "cell_type": "markdown",
   "id": "97e4768a-8ffe-44a9-88d9-d2ba17d94662",
   "metadata": {},
   "source": [
    "|Data Science Tools|\n",
    "|---|\n",
    "|TensorFlow|\n",
    "|ApacheSpark|\n",
    "|RStudio|"
   ]
  },
  {
   "cell_type": "markdown",
   "id": "4353896c-3f0f-4f7e-85b1-18d8388213da",
   "metadata": {},
   "source": [
    "### Below are some examples of evaluating arithmetic expressions in Python"
   ]
  },
  {
   "cell_type": "code",
   "execution_count": 9,
   "id": "9088ce44-b36a-4840-92c9-575e828690d5",
   "metadata": {},
   "outputs": [
    {
     "name": "stdout",
     "output_type": "stream",
     "text": [
      "17\n"
     ]
    }
   ],
   "source": [
    "# This is a simple arithmetic expression to multiply then add integers. \n",
    "a=3\n",
    "b=4\n",
    "c=5\n",
    "result=(a*b)+c\n",
    "print(result)"
   ]
  },
  {
   "cell_type": "code",
   "execution_count": 11,
   "id": "e94bd1e2-605f-4ff2-bf3a-3478e12af6fb",
   "metadata": {},
   "outputs": [
    {
     "name": "stdout",
     "output_type": "stream",
     "text": [
      "3.3333333333333335\n"
     ]
    }
   ],
   "source": [
    "# This will convert 200 minutes to hours by dividing it by 60. \n",
    "x=200\n",
    "y=60\n",
    "result=(x/y)\n",
    "print(result)"
   ]
  },
  {
   "cell_type": "markdown",
   "id": "73026fd1-8276-41b6-b115-18cc91ee07af",
   "metadata": {},
   "source": [
    "**Objectives:**\n",
    "- Name three popular coding languages used by data scientists\n",
    "- Name three commonly used libraries used by data scientists\n",
    "- Create a table in Jupyter\n",
    "- Create code to perform various matematical operations."
   ]
  },
  {
   "cell_type": "markdown",
   "id": "294aaa86-301e-4975-9283-855289655d3d",
   "metadata": {},
   "source": [
    "## Author \n",
    "Ingrid T. "
   ]
  }
 ],
 "metadata": {
  "kernelspec": {
   "display_name": "Python 3 (ipykernel)",
   "language": "python",
   "name": "python3"
  },
  "language_info": {
   "codemirror_mode": {
    "name": "ipython",
    "version": 3
   },
   "file_extension": ".py",
   "mimetype": "text/x-python",
   "name": "python",
   "nbconvert_exporter": "python",
   "pygments_lexer": "ipython3",
   "version": "3.12.7"
  }
 },
 "nbformat": 4,
 "nbformat_minor": 5
}
